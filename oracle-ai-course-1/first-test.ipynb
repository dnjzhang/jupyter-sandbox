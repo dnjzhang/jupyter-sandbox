{
 "cells": [
  {
   "cell_type": "code",
   "execution_count": 1,
   "id": "e9cfbc7d-9c02-4c07-b969-9db18b73da74",
   "metadata": {},
   "outputs": [],
   "source": [
    "num1 = 10.5\n",
    "num2 = 12.25\n",
    "sum = num1 + num2"
   ]
  },
  {
   "cell_type": "code",
   "execution_count": 2,
   "id": "a84d0908-5632-44f9-aa7b-6e1e97fb5a24",
   "metadata": {},
   "outputs": [
    {
     "name": "stdout",
     "output_type": "stream",
     "text": [
      ">>  22.75\n"
     ]
    }
   ],
   "source": [
    "print(\">> \", sum)"
   ]
  },
  {
   "cell_type": "code",
   "execution_count": 3,
   "id": "90aa4182-5658-4eb6-8542-3ba756c468f0",
   "metadata": {},
   "outputs": [
    {
     "name": "stdout",
     "output_type": "stream",
     "text": [
      "1 : apple\n",
      "2 : pear\n",
      "3 : strawberry\n"
     ]
    }
   ],
   "source": [
    "# test\n",
    "fruits = { 1 : \"apple\", 2 : \"pear\", 3: \"strawberry\" } \n",
    "for key, value in fruits.items():\n",
    "    print(key, \":\", value)"
   ]
  },
  {
   "cell_type": "code",
   "execution_count": 4,
   "id": "a32b2475-1585-4eda-b084-4599f245c636",
   "metadata": {},
   "outputs": [],
   "source": [
    "# test2\n",
    "product = 1.2 * 2"
   ]
  },
  {
   "cell_type": "code",
   "execution_count": 5,
   "id": "bc29b44f-3329-4f32-83c5-7319d1ec7680",
   "metadata": {},
   "outputs": [
    {
     "data": {
      "text/plain": [
       "2.4"
      ]
     },
     "execution_count": 5,
     "metadata": {},
     "output_type": "execute_result"
    }
   ],
   "source": [
    "product"
   ]
  },
  {
   "cell_type": "code",
   "execution_count": null,
   "id": "ce2c5f2d-45f6-4538-8102-ba3d6e5b44fe",
   "metadata": {},
   "outputs": [],
   "source": []
  }
 ],
 "metadata": {
  "kernelspec": {
   "display_name": "Python 3 (ipykernel)",
   "language": "python",
   "name": "python3"
  },
  "language_info": {
   "codemirror_mode": {
    "name": "ipython",
    "version": 3
   },
   "file_extension": ".py",
   "mimetype": "text/x-python",
   "name": "python",
   "nbconvert_exporter": "python",
   "pygments_lexer": "ipython3",
   "version": "3.13.1"
  }
 },
 "nbformat": 4,
 "nbformat_minor": 5
}
